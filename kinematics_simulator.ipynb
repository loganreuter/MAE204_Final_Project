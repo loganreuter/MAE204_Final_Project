{
 "cells": [
  {
   "cell_type": "code",
   "execution_count": 2,
   "metadata": {},
   "outputs": [],
   "source": [
    "import modern_robotics as mr\n",
    "import numpy as np\n",
    "\n",
    "R = 0.0475 # (const) wheel radius\n",
    "L = 0.235 # (const) distance to wheel in x_b direction\n",
    "W = 0.15 # (const) distance to wheel in y_b direction\n"
   ]
  },
  {
   "cell_type": "markdown",
   "metadata": {},
   "source": [
    "**NextState:**\n",
    "\n",
    "Args:\n",
    "- curr_state  \n",
    "    Vector (12x1) containing the current angle of each joint\n",
    "    - Chasis (0 - 2)\n",
    "    - Arm Joints (3 - 7)\n",
    "    - Wheel (8 - 11)\n",
    "- velocities  \n",
    "    Vector (9x1) containing joint and wheel velocities\n",
    "    - Arm Joints (0 - 4)\n",
    "    - Wheel Velocities (5 - 8)\n",
    "- dt  \n",
    "    (float) value of the timestep\n",
    "- max_vel  \n",
    "    (float) maximum velocity for joint and wheel movements"
   ]
  },
  {
   "cell_type": "code",
   "execution_count": 3,
   "metadata": {},
   "outputs": [],
   "source": [
    "def NextState(curr_state: np.ndarray, velocities: np.ndarray, dt: float, max_vel: float) -> np.ndarray:\n",
    "    next_state = np.zeros(12)\n",
    "\n",
    "    velocities[np.where(velocities > max_vel)] = max_vel\n",
    "    velocities[np.where(velocities < -max_vel)] = -max_vel\n",
    "\n",
    "    # determine the new joint angles\n",
    "    next_state[3:8] = curr_state[3:8] + dt * velocities[4:]\n",
    "\n",
    "    # determine the new wheel angles\n",
    "    next_state[8:] = curr_state[8:] + dt * velocities[:4]\n",
    "\n",
    "    # calculate the change in wheel angles\n",
    "    d_wheel_angles = next_state[8:] - curr_state[8:]\n",
    "\n",
    "    # eqn 13.10 (pg. 541)\n",
    "    H_0 = (1/R) *  np.array([[-L-W, 1, -1], [L+W, 1, 1], [L+W, 1, -1], [-L-W, 1, 1]])\n",
    "\n",
    "    # body twist is a 3x1 vector\n",
    "    # eqn 13.33 (pg. 569)\n",
    "    #   w_bz\n",
    "    #   v_bx\n",
    "    #   v_by\n",
    "    body_twist = np.matmul(np.linalg.pinv(H_0), d_wheel_angles)\n",
    "\n",
    "    # eqn 13.35 (pg. 570)\n",
    "    dq_b = np.zeros(3)\n",
    "    if body_twist[0] == 0.0:\n",
    "        dq_b = body_twist\n",
    "    else:\n",
    "        dq_b = np.array([\n",
    "            body_twist[0],\n",
    "            ( body_twist[1] * np.sin(body_twist[0]) + body_twist[2] * (np.cos(body_twist[0]) - 1) ) / body_twist[0],\n",
    "            ( body_twist[2] * np.sin(body_twist[0]) + body_twist[1] * (1 - np.cos(body_twist[0])) ) / body_twist[0]\n",
    "        ])\n",
    "    \n",
    "    # eqn 13.36 (pg 570)\n",
    "    dq = np.matmul(np.array([\n",
    "        [1, 0, 0],\n",
    "        [0, np.cos(curr_state[0]), -np.sin(curr_state[0])],\n",
    "        [0, np.sin(curr_state[0]), np.cos(curr_state[0])],\n",
    "    ]), dq_b)\n",
    "\n",
    "    next_state[:3] = curr_state[:3] + dq\n",
    "\n",
    "    return next_state    "
   ]
  },
  {
   "cell_type": "markdown",
   "metadata": {},
   "source": [
    "Testing the Code:"
   ]
  },
  {
   "cell_type": "code",
   "execution_count": 4,
   "metadata": {},
   "outputs": [],
   "source": [
    "import csv\n",
    "\n",
    "dt = 0.01\n",
    "N = 100\n",
    "\n",
    "curr_state = np.zeros(12)\n",
    "velocities = np.ones(9)\n",
    "velocities[4:] *= 0\n",
    "velocities[0] *= -10\n",
    "velocities[1] *= 10\n",
    "velocities[2] *= 10\n",
    "velocities[3] *= -10\n",
    "\n",
    "with open(\"test.csv\", \"w+\") as file:\n",
    "    writer = csv.writer(file)\n",
    "    write_data = np.zeros(13)\n",
    "\n",
    "    for _ in range(N):\n",
    "        write_data[:12] = curr_state\n",
    "        writer.writerow(write_data.round(4))\n",
    "        curr_state = NextState(curr_state, velocities, dt, 20)"
   ]
  },
  {
   "cell_type": "markdown",
   "metadata": {},
   "source": [
    "# Video Link\n",
    "[link](https://drive.google.com/file/d/1wd70hRHvS_79FOPj-ytq6ssR58TkKqdT/view?usp=sharing)"
   ]
  }
 ],
 "metadata": {
  "kernelspec": {
   "display_name": "Python 3",
   "language": "python",
   "name": "python3"
  },
  "language_info": {
   "codemirror_mode": {
    "name": "ipython",
    "version": 3
   },
   "file_extension": ".py",
   "mimetype": "text/x-python",
   "name": "python",
   "nbconvert_exporter": "python",
   "pygments_lexer": "ipython3",
   "version": "3.12.0"
  }
 },
 "nbformat": 4,
 "nbformat_minor": 2
}
