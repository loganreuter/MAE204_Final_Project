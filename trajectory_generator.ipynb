{
 "cells": [
  {
   "cell_type": "code",
   "execution_count": 27,
   "id": "884a903a",
   "metadata": {},
   "outputs": [],
   "source": [
    "import modern_robotics as mr\n",
    "import numpy as np"
   ]
  },
  {
   "cell_type": "code",
   "execution_count": 28,
   "id": "6646a7b3",
   "metadata": {},
   "outputs": [],
   "source": [
    "def TrajectoryGenerator(T_se_i, T_sc_i, T_sc_f, T_ce_grasp, T_ce_standoff, k: int):\n",
    "    # trajectory runtime (s)\n",
    "    Tf = 1\n",
    "    \n",
    "    # number of configurations\n",
    "    N = int( (Tf * k) / 0.001 )\n",
    "    output = np.zeros((6 * N + 2, 13))\n",
    "    idx = 0\n",
    "\n",
    "    # Trajectory to standoff position\n",
    "    T_se_standoff_pick = np.matmul(T_sc_i, T_ce_standoff)\n",
    "    traj = mr.ScrewTrajectory(T_se_i, T_se_standoff_pick, Tf, N, 5)\n",
    "    for t in traj:\n",
    "        output[idx] = np.concatenate((t[:3, :3].flatten(), t[:3, 3], [0]))\n",
    "        idx += 1\n",
    "\n",
    "    # Trajectory to grasp position\n",
    "    T_se_grasp_pick = np.matmul(T_sc_i, T_ce_grasp)\n",
    "    traj = mr.ScrewTrajectory(T_se_standoff_pick, T_se_grasp_pick, Tf, N, 5)\n",
    "    for t in traj:\n",
    "        output[idx] = np.concatenate((t[:3, :3].flatten(), t[:3, 3], [0]))\n",
    "        idx += 1\n",
    "\n",
    "    # open the gripper\n",
    "    output[idx] = np.concatenate((T_se_grasp_pick[:3, :3].flatten(), T_se_grasp_pick[:3, 3], [1]))\n",
    "    idx += 1\n",
    "\n",
    "    # move back to the standoff point for the block pick up\n",
    "    traj = mr.ScrewTrajectory(T_se_grasp_pick, T_se_standoff_pick, Tf, N, 5)\n",
    "    for t in traj:\n",
    "        output[idx] = np.concatenate((t[:3, :3].flatten(), t[:3, 3], [1]))\n",
    "        idx += 1\n",
    "\n",
    "    # move to the standoff point for the block drop off\n",
    "    T_se_standoff_drop = np.matmul(T_sc_f, T_ce_standoff)\n",
    "    traj = mr.ScrewTrajectory(T_se_standoff_pick, T_se_standoff_drop, Tf, N, 5)\n",
    "    for t in traj:\n",
    "        output[idx] = np.concatenate((t[:3, :3].flatten(), t[:3, 3], [1]))\n",
    "        idx += 1\n",
    "\n",
    "    # place down the block\n",
    "    T_se_grasp_drop = np.matmul(T_sc_f, T_ce_grasp)\n",
    "    traj = mr.ScrewTrajectory(T_se_standoff_drop, T_se_grasp_drop, Tf, N, 5)\n",
    "    for t in traj:\n",
    "        output[idx] = np.concatenate((t[:3, :3].flatten(), t[:3, 3], [1]))\n",
    "        idx += 1\n",
    "    \n",
    "    # open the gripper\n",
    "    output[idx] = np.concatenate((T_se_grasp_drop[:3, :3].flatten(), T_se_grasp_drop[:3, 3], [0]))\n",
    "    idx += 1\n",
    "\n",
    "    # move the the standoff point above the drop location\n",
    "    traj = mr.ScrewTrajectory(T_se_grasp_drop, T_se_standoff_drop, Tf, N, 5)\n",
    "    for t in traj:\n",
    "        output[idx] = np.concatenate((t[:3, :3].flatten(), t[:3, 3], [0]))\n",
    "        idx += 1\n",
    "\n",
    "    return output\n",
    "   "
   ]
  },
  {
   "cell_type": "code",
   "execution_count": 29,
   "id": "1f1df5d6",
   "metadata": {},
   "outputs": [],
   "source": [
    "import csv\n",
    "\n",
    "# initialize the transformation matrices\n",
    "# T_se = np.array([[1, 0, 0, 0], [0, 1, 0, 0], [0, 0, 1, 0.5], [0, 0, 0, 1]])\n",
    "T_se_i = np.array([[0, 0, 1, 0], [0, 1, 0, 0], [-1, 0, 0, 0.5], [0, 0, 0, 1]])\n",
    "T_sc_i = np.array([[1, 0, 0, 1], [0, 1, 0, 0], [0, 0, 1, 0.25], [0, 0, 0, 1]])\n",
    "T_sc_f = np.array([[0, 1, 0, 0], [-1, 0, 0, -1], [0, 0, 1, .25], [0, 0, 0, 1]])\n",
    "T_ce_grasp = np.array([[-1, 0, 0, 0], [0, 1, 0, 0], [0, 0, -1, -0.225], [0, 0, 0, 1]])\n",
    "T_ce_standoff = np.array([[-1, 0, 0, 0], [0, 1, 0, 0], [0, 0, -1, -0.2], [0, 0, 0, 1]])\n",
    "\n",
    "# create the csv file\n",
    "with open(\"test.csv\", \"w+\") as f:\n",
    "    writer = csv.writer(f)\n",
    "    \n",
    "    traj = TrajectoryGenerator(T_se_i, T_sc_i, T_sc_f, T_ce_grasp, T_ce_standoff, 1)\n",
    "    writer.writerows(traj)"
   ]
  },
  {
   "cell_type": "markdown",
   "id": "ec3d2b44",
   "metadata": {},
   "source": [
    "# Video Link\n",
    "[link](https://drive.google.com/file/d/1TCv4SEFNBjzDJNKVx5X3myQoLeNPacD2/view?usp=sharing)"
   ]
  }
 ],
 "metadata": {
  "kernelspec": {
   "display_name": "Python 3",
   "language": "python",
   "name": "python3"
  },
  "language_info": {
   "codemirror_mode": {
    "name": "ipython",
    "version": 3
   },
   "file_extension": ".py",
   "mimetype": "text/x-python",
   "name": "python",
   "nbconvert_exporter": "python",
   "pygments_lexer": "ipython3",
   "version": "3.12.0"
  }
 },
 "nbformat": 4,
 "nbformat_minor": 5
}
